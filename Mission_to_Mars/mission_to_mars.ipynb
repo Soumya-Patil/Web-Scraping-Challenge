{
 "cells": [
  {
   "cell_type": "code",
   "execution_count": 19,
   "metadata": {},
   "outputs": [],
   "source": [
    "# Import Dependencies\n",
    "from bs4 import BeautifulSoup\n",
    "import requests\n",
    "from splinter import Browser\n",
    "from splinter.exceptions import ElementDoesNotExist\n",
    "import pandas as pd\n"
   ]
  },
  {
   "cell_type": "code",
   "execution_count": 30,
   "metadata": {},
   "outputs": [],
   "source": [
    "# find chrome executable and create an instance of the browser\n",
    "executable_path = {'executable_path': 'chromedriver.exe'}\n",
    "browser = Browser('chrome', **executable_path, headless=False)"
   ]
  },
  {
   "cell_type": "markdown",
   "metadata": {},
   "source": [
    "### NASA Mars News\n",
    "\n",
    "<ul>\n",
    "<li>Scrape the <a href = \"https://mars.nasa.gov/news/?page=0&per_page=40&order=publish_date+desc%2Ccreated_at+desc&search=&category=19%2C165%2C184%2C204&blank_scope=Latest\">NASA Mars News Site </a> and collect the latest News Title and Paragraph Text. Assign the text to variables that you can reference later.</li>\n",
    "</ul>"
   ]
  },
  {
   "cell_type": "code",
   "execution_count": 21,
   "metadata": {},
   "outputs": [],
   "source": [
    "# url for the NASA Mars News Site\n",
    "url = 'https://mars.nasa.gov/news/?page=0&per_page=40&order=publish_date+desc%2Ccreated_at+desc&search=&category=19%2C165%2C184%2C204&blank_scope=Latest'\n",
    "browser.visit(url)"
   ]
  },
  {
   "cell_type": "code",
   "execution_count": 22,
   "metadata": {},
   "outputs": [
    {
     "name": "stdout",
     "output_type": "stream",
     "text": [
      "News Title : NASA's Perseverance Rover Mission Getting in Shape for Launch.\n",
      "Paragraph Text : Stacking spacecraft components on top of each other is one of the final assembly steps before a mission launches to the Red Planet.  \n",
      "\n",
      "News Title : NASA Perseverance Mars Rover Scientists Train in the Nevada Desert.\n",
      "Paragraph Text : Team members searched for signs of ancient microscopic life there, just as NASA's latest rover will on the Red Planet next year. \n",
      "\n",
      "News Title : NASA's Perseverance Rover Will Look at Mars Through These 'Eyes'.\n",
      "Paragraph Text : A pair of zoomable cameras will help scientists and rover drivers with high-resolution color images. \n",
      "\n",
      "News Title : Meet the People Behind NASA's Perseverance Rover.\n",
      "Paragraph Text : These are the scientists and engineers who built NASA's next Mars rover and who will guide it to a safe landing in Jezero Crater.  \n",
      "\n",
      "News Title : Q&A with the Student Who Named Ingenuity, NASA's Mars Helicopter.\n",
      "Paragraph Text : As a longtime fan of space exploration, Vaneeza Rupani appreciates the creativity and collaboration involved with trying to fly on another planet. \n",
      "\n",
      "News Title : Alabama High School Student Names NASA's Mars Helicopter.\n",
      "Paragraph Text : Vaneeza Rupani's essay was chosen as the name for the small spacecraft, which will mark NASA's first attempt at powered flight on another planet. \n",
      "\n",
      "News Title : How NASA's Perseverance Mars Team Adjusted to Work in the Time of Coronavirus .\n",
      "Paragraph Text : Like much of the rest of the world, the Mars rover team is pushing forward with its mission-critical work while putting the health and safety of their colleagues and community first. \n",
      "\n",
      "News Title : NASA's Perseverance Mars Rover Gets Balanced.\n",
      "Paragraph Text : The mission team performed a crucial weight-balancing test on the rover in preparation for this summer's history-making launch to the Red Planet. \n",
      "\n",
      "News Title : NASA's Curiosity Keeps Rolling As Team Operates Rover From Home.\n",
      "Paragraph Text : The team has learned to meet new challenges as they work remotely on the Mars mission. \n",
      "\n",
      "News Title : Mars Helicopter Attached to NASA's Perseverance Rover.\n",
      "Paragraph Text : The team also fueled the rover's sky crane to get ready for this summer's history-making launch. \n",
      "\n",
      "News Title : NASA's Perseverance Mars Rover Gets Its Wheels and Air Brakes.\n",
      "Paragraph Text : After the rover was shipped from JPL to Kennedy Space Center, the team is getting closer to finalizing the spacecraft for launch later this summer. \n",
      "\n",
      "News Title : The Man Who Wanted to Fly on Mars.\n",
      "Paragraph Text : The Mars Helicopter is riding to the Red Planet this summer with NASA's Perseverance rover. The helicopter's chief engineer, Bob Balaram, shares the saga of how it came into being. \n",
      "\n",
      "News Title : 10.9 Million Names Now Aboard NASA's Perseverance Mars Rover.\n",
      "Paragraph Text : As part of NASA's 'Send Your Name to Mars' campaign, they've been stenciled onto three microchips along with essays from NASA's 'Name the Rover' contest. Next stop: Mars. \n",
      "\n",
      "News Title : NASA's Curiosity Mars Rover Takes a New Selfie Before Record Climb.\n",
      "Paragraph Text : Along with capturing an image before its steepest ascent ever, the robotic explorer filmed its \"selfie stick,\" or robotic arm, in action. \n",
      "\n",
      "News Title : NASA's Mars Perseverance Rover Gets Its Sample Handling System.\n",
      "Paragraph Text : The system will be collecting and storing Martian rock and soil. Its installation marks another milestone in the march toward the July launch period. \n",
      "\n",
      "News Title : Virginia Middle School Student Earns Honor of Naming NASA's Next Mars Rover.\n",
      "Paragraph Text : NASA chose a seventh-grader from Virginia as winner of the agency's \"Name the Rover\" essay contest. Alexander Mather's entry for \"Perseverance\" was voted tops among 28,000 entries.  \n",
      "\n",
      "News Title : NASA's Curiosity Mars Rover Snaps Its Highest-Resolution Panorama Yet.\n",
      "Paragraph Text : To go along with the stunning 1.8-billion-pixel image, a new video offers a sweeping view of the Red Planet. \n",
      "\n",
      "News Title : NASA to Reveal Name of Its Next Mars Rover.\n",
      "Paragraph Text : After a months-long contest among students to name NASA's newest Mars rover, the agency will reveal the winning name — and the winning student — this Thursday.  \n",
      "\n",
      "News Title : The MarCO Mission Comes to an End.\n",
      "Paragraph Text : The pair of briefcase-sized satellites made history when they sailed past Mars in 2019. \n",
      "\n",
      "News Title : A Year of Surprising Science From NASA's InSight Mars Mission.\n",
      "Paragraph Text : A batch of new papers summarizes the lander's findings above and below the surface of the Red Planet. \n",
      "\n",
      "News Title : Mars InSight Lander to Push on Top of the 'Mole'.\n",
      "Paragraph Text : Engineers have a plan for pushing down on the heat probe, which has been stuck at the Martian surface for a year. \n",
      "\n",
      "News Title : Common Questions about InSight's 'Mole'.\n",
      "Paragraph Text : The following Q&As with members of the team answer some of the most common questions about the burrowing device, part of a science instrument called the Heat Flow and Physical Properties Package (HP3). \n",
      "\n",
      "News Title : NASA Adds Return Sample Scientists to Mars 2020 Leadership Team.\n",
      "Paragraph Text : The leadership council for Mars 2020 science added two new members who represent the interests of scientists destined to handle and study the first samples from Red Planet. \n",
      "\n",
      "News Title : NASA's Mars Reconnaissance Orbiter Undergoes Memory Update.\n",
      "Paragraph Text : Other orbiters will continue relaying data from Mars surface missions for a two-week period. \n",
      "\n",
      "News Title : NASA's Mars 2020 Rover Goes Coast-to-Coast to Prep for Launch.\n",
      "Paragraph Text : The agency's first step in returning rocks from Mars just arrived at Kennedy Space Center. The Mars 2020 team now begins readying for a launch to the Red Planet this July. \n",
      "\n",
      "News Title : NASA Prepares for Moon and Mars With New Addition to Its Deep Space Network.\n",
      "Paragraph Text : Robotic spacecraft will be able to communicate with the dish using radio waves and lasers. \n",
      "\n",
      "News Title : NASA Administrator Statement on Moon to Mars Initiative, FY 2021 Budget.\n",
      "Paragraph Text : Jim Bridenstine addresses NASA's ambitious plans for the coming years, including Mars Sample Return. \n",
      "\n",
      "News Title : All About the Laser (and Microphone) Atop Mars 2020, NASA's Next Rover.\n",
      "Paragraph Text : SuperCam is a rock-vaporizing instrument that will help scientists hunt for Mars fossils. \n",
      "\n",
      "News Title : NASA's MAVEN Explores Mars to Understand Radio Interference at Earth.\n",
      "Paragraph Text : NASA’s MAVEN spacecraft has discovered “layers” and “rifts” in the electrically charged part of the upper atmosphere of Mars. \n",
      "\n",
      "News Title : Nine Finalists Chosen in NASA's Mars 2020 Rover Naming Contest.\n",
      "Paragraph Text : Nine finalists have been chosen in the essay contest for K-12 students across U.S. to name NASA's next Mars rover. Now you can help by voting for your favorite.  \n",
      "\n",
      "News Title : NASA's Mars 2020 Rover Closer to Getting Its Name.\n",
      "Paragraph Text : 155 students from across the U.S. have been chosen as semifinalists in NASA's essay contest to name the Mars 2020 rover, and see it launch from Cape Canaveral this July. \n",
      "\n",
      "News Title : Media Get a Close-Up of NASA's Mars 2020 Rover.\n",
      "Paragraph Text : The clean room at NASA's Jet Propulsion Laboratory was open to the media to see NASA's next Mars explorer before it leaves for Florida in preparation for a summertime launch. \n",
      "\n",
      "News Title : Space History Is Made in This NASA Robot Factory.\n",
      "Paragraph Text : From rockets to rovers, JPL's Spacecraft Assembly Facility has been at the center of robotic spaceflight. Here's a closer look at what makes it so special. \n",
      "\n",
      "News Title : NASA's Mars 2020 Rover Completes Its First Drive.\n",
      "Paragraph Text : In a 10-plus-hour marathon, the rover steered, turned and drove in 3-foot (1-meter) increments over small ramps. \n",
      "\n",
      "News Title : NASA's MAVEN Maps Winds in the Martian Upper Atmosphere that Mirror the Terrain Below and Gives Clues to Martian Climate.\n",
      "Paragraph Text : Researchers have created the first map of wind circulation in the upper atmosphere of a planet besides Earth, using data from NASA’s MAVEN spacecraft that were collected during the last two years. \n",
      "\n",
      "News Title : Newfound Martian Aurora Actually the Most Common; Sheds Light on Mars' Changing Climate.\n",
      "Paragraph Text : A type of Martian aurora first identified by NASA’s MAVEN spacecraft in 2016 is actually the most common form of aurora occurring on the Red Planet, according to new results from the mission. \n",
      "\n",
      "News Title : NASA's Treasure Map for Water Ice on Mars.\n",
      "Paragraph Text : A new study identifies frozen water just below the Martian surface, where astronauts could easily dig it up. \n",
      "\n",
      "News Title : Two Rovers to Roll on Mars Again: Curiosity and Mars 2020.\n",
      "Paragraph Text : They look like twins. But under the hood, the rover currently exploring the Red Planet and the one launching there this summer have distinct science tools and roles to play. \n",
      "\n",
      "News Title : NASA's Briefcase-Size MarCO Satellite Picks Up Honors.\n",
      "Paragraph Text : The twin spacecraft, the first of their kind to fly into deep space, earn a Laureate from Aviation Week & Space Technology. \n",
      "\n",
      "News Title : Global Storms on Mars Launch Dust Towers Into the Sky.\n",
      "Paragraph Text : A Mars Dust Tower Stands Out Dust storms are common on Mars. But every decade or so, something unpredictable happens: a series of runaway storms break out, covering the entire planet in a dusty haze. \n",
      "\n"
     ]
    }
   ],
   "source": [
    "news = {}\n",
    "\n",
    "html = browser.html\n",
    "soup = BeautifulSoup(html, 'html.parser')\n",
    "\n",
    "results = soup.find_all('li', class_=\"slide\")\n",
    "nl = '\\n'\n",
    "\n",
    "# Loop through returned results\n",
    "for result in results:\n",
    "# Error handling\n",
    "    try:\n",
    "    # Identify and return news title\n",
    "        news_title = result.find(\"div\", class_='content_title').text\n",
    "        \n",
    "        # Identify and return paragraph text\n",
    "        news_p = result.div.find(\"div\", class_=\"article_teaser_body\").text\n",
    "        \n",
    "        # Print results only if title and paragraph text are available\n",
    "        if (news_title and news_p):\n",
    "            \n",
    "            news = {'News Title' :news_title, 'Paragraph Text' :news_p }\n",
    "            \n",
    "\n",
    "    except ElementDoesNotExist:\n",
    "        print(\"Error!\")\n",
    "        \n",
    "        \n",
    "    print(f\"News Title : {news['News Title']}.{nl}Paragraph Text : {news['Paragraph Text']} {nl}\")"
   ]
  },
  {
   "cell_type": "code",
   "execution_count": 31,
   "metadata": {},
   "outputs": [],
   "source": [
    "browser.quit()"
   ]
  },
  {
   "cell_type": "markdown",
   "metadata": {},
   "source": [
    "## JPL Mars Space Images - Featured Image\n",
    "\n",
    "\n",
    "Visit the url for <a href = \"https://www.jpl.nasa.gov/spaceimages/?search=&category=Mars\">JPL Featured Space Image. </a> \n",
    "\n",
    "<ul>\n",
    "<li>Use splinter to navigate the site and find the image url for the current Featured Mars Image and assign the url string to a variable called featured_image_url.\n",
    "</li>\n",
    "<li>Make sure to find the image url to the full size .jpg image.</li>\n",
    "<li>Make sure to save a complete url string for this image.</li>\n",
    "</ul>\n",
    "\n",
    "\n",
    "\n",
    "\n",
    "\n",
    "\n"
   ]
  },
  {
   "cell_type": "code",
   "execution_count": 24,
   "metadata": {},
   "outputs": [],
   "source": [
    "# find chrome executable and create an instance of the browser\n",
    "executable_path = {'executable_path': 'chromedriver.exe'}\n",
    "browser = Browser('chrome', **executable_path, headless=False)"
   ]
  },
  {
   "cell_type": "code",
   "execution_count": 25,
   "metadata": {},
   "outputs": [],
   "source": [
    "# url for the JPL Mars Space Images\n",
    "url = \"https://www.jpl.nasa.gov/spaceimages/?search=&category=Mars\"\n",
    "browser.visit(url)"
   ]
  },
  {
   "cell_type": "code",
   "execution_count": 26,
   "metadata": {},
   "outputs": [],
   "source": [
    "# Since, we are using only Splinter for this task \n",
    "# we are going to interact with few buttons and href clicks accordingly to finally fetch the URL for the full-size image url\n",
    "\"\"\" You click in buttons. Splinter follows any redirects, and submits forms associated with buttons.\"\"\"\n",
    "\n",
    "browser.find_link_by_partial_text('FULL IMAGE').first.click()\n",
    "browser.find_link_by_partial_text('more info').first.click()\n",
    "\n",
    "# \n",
    "browser.click_link_by_partial_text('1920 x 1200')"
   ]
  },
  {
   "cell_type": "code",
   "execution_count": 27,
   "metadata": {},
   "outputs": [],
   "source": [
    "featured_image_url = browser.url"
   ]
  },
  {
   "cell_type": "code",
   "execution_count": 28,
   "metadata": {},
   "outputs": [
    {
     "data": {
      "text/plain": [
       "'https://www.jpl.nasa.gov/spaceimages/details.php?id=PIA19101'"
      ]
     },
     "execution_count": 28,
     "metadata": {},
     "output_type": "execute_result"
    }
   ],
   "source": [
    "featured_image_url"
   ]
  },
  {
   "cell_type": "code",
   "execution_count": 131,
   "metadata": {},
   "outputs": [],
   "source": [
    "browser.quit()"
   ]
  },
  {
   "cell_type": "markdown",
   "metadata": {},
   "source": [
    "### Mars Weather\n",
    "\n",
    "#### Visit the Mars Weather twitter account <a href= \"https://twitter.com/marswxreport?lang=en\"> here </a> and scrape the latest Mars weather tweet from the page. Save the tweet text for the weather report as a variable called mars_weather.\n",
    "\n",
    "Note: Be sure you are not signed in to twitter, or scraping may become more difficult.<br>\n",
    "Note: Twitter frequently changes how information is presented on their website. If you are having difficulty getting the correct html tag data, consider researching Regular Expression Patterns and how they can be used in combination with the .find() method.\n",
    "\n"
   ]
  },
  {
   "cell_type": "code",
   "execution_count": 132,
   "metadata": {},
   "outputs": [],
   "source": [
    "# find chrome executable and create an instance of the browser\n",
    "executable_path = {'executable_path': 'chromedriver.exe'}\n",
    "browser = Browser('chrome', **executable_path, headless=False)"
   ]
  },
  {
   "cell_type": "code",
   "execution_count": 133,
   "metadata": {},
   "outputs": [],
   "source": [
    "# Visit the webpage for Mars Weather Twitter account\n",
    "url = \"https://twitter.com/marswxreport?lang=en\"\n",
    "browser.visit(url)"
   ]
  },
  {
   "cell_type": "code",
   "execution_count": 134,
   "metadata": {},
   "outputs": [],
   "source": [
    "# parse the html and navigate through an instance of Beautiful Soup\n",
    "html = browser.html\n",
    "soup = BeautifulSoup(html, 'html.parser')"
   ]
  },
  {
   "cell_type": "code",
   "execution_count": 137,
   "metadata": {},
   "outputs": [],
   "source": [
    "# Inspect the webpage to find element \"article\" encloses the tweets, fetch the first tweet out of it \n",
    "mars_weather = soup.body.find_all(\"article\")[0].text"
   ]
  },
  {
   "cell_type": "code",
   "execution_count": 138,
   "metadata": {},
   "outputs": [
    {
     "data": {
      "text/plain": [
       "'Mars Weather@MarsWxReport·18hInSight sol 518 (2020-05-11) low -93.3ºC (-135.9ºF) high -0.9ºC (30.4ºF)\\nwinds from the SW at 4.9 m/s (11.1 mph) gusting to 16.0 m/s (35.7 mph)\\npressure at 6.90 hPa818'"
      ]
     },
     "execution_count": 138,
     "metadata": {},
     "output_type": "execute_result"
    }
   ],
   "source": [
    "mars_weather"
   ]
  },
  {
   "cell_type": "code",
   "execution_count": 139,
   "metadata": {},
   "outputs": [],
   "source": [
    "browser.quit()"
   ]
  },
  {
   "cell_type": "markdown",
   "metadata": {},
   "source": [
    "#### Mars Facts\n",
    "\n",
    "<ul>\n",
    "    <li>Visit the Mars Facts webpage <a href = \"https://space-facts.com/mars/\">here </a>  and use Pandas to scrape the table containing facts about the planet including Diameter, Mass, etc.\n",
    "\n",
    "\n",
    "<li>Use Pandas to convert the data to a HTML table string.\n",
    "</ul>"
   ]
  },
  {
   "cell_type": "code",
   "execution_count": 140,
   "metadata": {},
   "outputs": [],
   "source": [
    "# store url as string \n",
    "url = \"https://space-facts.com/mars/\""
   ]
  },
  {
   "cell_type": "code",
   "execution_count": 143,
   "metadata": {},
   "outputs": [
    {
     "data": {
      "text/plain": [
       "[                      0                              1\n",
       " 0  Equatorial Diameter:                       6,792 km\n",
       " 1       Polar Diameter:                       6,752 km\n",
       " 2                 Mass:  6.39 × 10^23 kg (0.11 Earths)\n",
       " 3                Moons:            2 (Phobos & Deimos)\n",
       " 4       Orbit Distance:       227,943,824 km (1.38 AU)\n",
       " 5         Orbit Period:           687 days (1.9 years)\n",
       " 6  Surface Temperature:                   -87 to -5 °C\n",
       " 7         First Record:              2nd millennium BC\n",
       " 8          Recorded By:           Egyptian astronomers,\n",
       "   Mars - Earth Comparison             Mars            Earth\n",
       " 0               Diameter:         6,779 km        12,742 km\n",
       " 1                   Mass:  6.39 × 10^23 kg  5.97 × 10^24 kg\n",
       " 2                  Moons:                2                1\n",
       " 3      Distance from Sun:   227,943,824 km   149,598,262 km\n",
       " 4         Length of Year:   687 Earth days      365.24 days\n",
       " 5            Temperature:    -153 to 20 °C      -88 to 58°C,\n",
       "                       0                              1\n",
       " 0  Equatorial Diameter:                       6,792 km\n",
       " 1       Polar Diameter:                       6,752 km\n",
       " 2                 Mass:  6.39 × 10^23 kg (0.11 Earths)\n",
       " 3                Moons:            2 (Phobos & Deimos)\n",
       " 4       Orbit Distance:       227,943,824 km (1.38 AU)\n",
       " 5         Orbit Period:           687 days (1.9 years)\n",
       " 6  Surface Temperature:                   -87 to -5 °C\n",
       " 7         First Record:              2nd millennium BC\n",
       " 8          Recorded By:           Egyptian astronomers]"
      ]
     },
     "execution_count": 143,
     "metadata": {},
     "output_type": "execute_result"
    }
   ],
   "source": [
    "# pass url string to the read_html method of Pandas\n",
    "table = pd.read_html(url)\n",
    "table"
   ]
  },
  {
   "cell_type": "code",
   "execution_count": null,
   "metadata": {},
   "outputs": [],
   "source": []
  }
 ],
 "metadata": {
  "kernelspec": {
   "display_name": "Python 3",
   "language": "python",
   "name": "python3"
  },
  "language_info": {
   "codemirror_mode": {
    "name": "ipython",
    "version": 3
   },
   "file_extension": ".py",
   "mimetype": "text/x-python",
   "name": "python",
   "nbconvert_exporter": "python",
   "pygments_lexer": "ipython3",
   "version": "3.8.2"
  }
 },
 "nbformat": 4,
 "nbformat_minor": 4
}
