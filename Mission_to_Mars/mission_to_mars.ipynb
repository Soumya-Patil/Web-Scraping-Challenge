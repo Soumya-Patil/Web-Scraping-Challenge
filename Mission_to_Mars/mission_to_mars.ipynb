{
 "cells": [
  {
   "cell_type": "code",
   "execution_count": 87,
   "metadata": {},
   "outputs": [],
   "source": [
    "# Import Dependencies\n",
    "from bs4 import BeautifulSoup\n",
    "import requests\n",
    "from splinter import Browser\n",
    "from splinter.exceptions import ElementDoesNotExist\n",
    "import pandas as pd\n"
   ]
  },
  {
   "cell_type": "markdown",
   "metadata": {},
   "source": [
    "### NASA Mars News\n",
    "\n",
    "- Scrape the __[NASA Mars News Site](https://mars.nasa.gov/news/?page=0&per_page=40&order=publish_date+desc%2Ccreated_at+desc&search=&category=19%2C165%2C184%2C204&blank_scope=Latest)__ \n",
    "and collect the latest News Title and Paragraph Text. Assign the text to variables that you can reference later."
   ]
  },
  {
   "cell_type": "code",
   "execution_count": 89,
   "metadata": {},
   "outputs": [],
   "source": [
    "# url for the NASA Mars News Site\n",
    "url = 'https://mars.nasa.gov/news/?page=0&per_page=40&order=publish_date+desc%2Ccreated_at+desc&search=&category=19%2C165%2C184%2C204&blank_scope=Latest'\n",
    "browser.visit(url)"
   ]
  },
  {
   "cell_type": "code",
   "execution_count": 90,
   "metadata": {},
   "outputs": [
    {
     "name": "stdout",
     "output_type": "stream",
     "text": [
      "News Title : NASA's Perseverance Rover Mission Getting in Shape for Launch.\n",
      "Paragraph Text : Stacking spacecraft components on top of each other is one of the final assembly steps before a mission launches to the Red Planet.  \n",
      "\n",
      "News Title : NASA Perseverance Mars Rover Scientists Train in the Nevada Desert.\n",
      "Paragraph Text : Team members searched for signs of ancient microscopic life there, just as NASA's latest rover will on the Red Planet next year. \n",
      "\n",
      "News Title : NASA's Perseverance Rover Will Look at Mars Through These 'Eyes'.\n",
      "Paragraph Text : A pair of zoomable cameras will help scientists and rover drivers with high-resolution color images. \n",
      "\n",
      "News Title : Meet the People Behind NASA's Perseverance Rover.\n",
      "Paragraph Text : These are the scientists and engineers who built NASA's next Mars rover and who will guide it to a safe landing in Jezero Crater.  \n",
      "\n",
      "News Title : Q&A with the Student Who Named Ingenuity, NASA's Mars Helicopter.\n",
      "Paragraph Text : As a longtime fan of space exploration, Vaneeza Rupani appreciates the creativity and collaboration involved with trying to fly on another planet. \n",
      "\n",
      "News Title : Alabama High School Student Names NASA's Mars Helicopter.\n",
      "Paragraph Text : Vaneeza Rupani's essay was chosen as the name for the small spacecraft, which will mark NASA's first attempt at powered flight on another planet. \n",
      "\n",
      "News Title : How NASA's Perseverance Mars Team Adjusted to Work in the Time of Coronavirus .\n",
      "Paragraph Text : Like much of the rest of the world, the Mars rover team is pushing forward with its mission-critical work while putting the health and safety of their colleagues and community first. \n",
      "\n",
      "News Title : NASA's Perseverance Mars Rover Gets Balanced.\n",
      "Paragraph Text : The mission team performed a crucial weight-balancing test on the rover in preparation for this summer's history-making launch to the Red Planet. \n",
      "\n",
      "News Title : NASA's Curiosity Keeps Rolling As Team Operates Rover From Home.\n",
      "Paragraph Text : The team has learned to meet new challenges as they work remotely on the Mars mission. \n",
      "\n",
      "News Title : Mars Helicopter Attached to NASA's Perseverance Rover.\n",
      "Paragraph Text : The team also fueled the rover's sky crane to get ready for this summer's history-making launch. \n",
      "\n",
      "News Title : NASA's Perseverance Mars Rover Gets Its Wheels and Air Brakes.\n",
      "Paragraph Text : After the rover was shipped from JPL to Kennedy Space Center, the team is getting closer to finalizing the spacecraft for launch later this summer. \n",
      "\n",
      "News Title : The Man Who Wanted to Fly on Mars.\n",
      "Paragraph Text : The Mars Helicopter is riding to the Red Planet this summer with NASA's Perseverance rover. The helicopter's chief engineer, Bob Balaram, shares the saga of how it came into being. \n",
      "\n",
      "News Title : 10.9 Million Names Now Aboard NASA's Perseverance Mars Rover.\n",
      "Paragraph Text : As part of NASA's 'Send Your Name to Mars' campaign, they've been stenciled onto three microchips along with essays from NASA's 'Name the Rover' contest. Next stop: Mars. \n",
      "\n",
      "News Title : NASA's Curiosity Mars Rover Takes a New Selfie Before Record Climb.\n",
      "Paragraph Text : Along with capturing an image before its steepest ascent ever, the robotic explorer filmed its \"selfie stick,\" or robotic arm, in action. \n",
      "\n",
      "News Title : NASA's Mars Perseverance Rover Gets Its Sample Handling System.\n",
      "Paragraph Text : The system will be collecting and storing Martian rock and soil. Its installation marks another milestone in the march toward the July launch period. \n",
      "\n",
      "News Title : Virginia Middle School Student Earns Honor of Naming NASA's Next Mars Rover.\n",
      "Paragraph Text : NASA chose a seventh-grader from Virginia as winner of the agency's \"Name the Rover\" essay contest. Alexander Mather's entry for \"Perseverance\" was voted tops among 28,000 entries.  \n",
      "\n",
      "News Title : NASA's Curiosity Mars Rover Snaps Its Highest-Resolution Panorama Yet.\n",
      "Paragraph Text : To go along with the stunning 1.8-billion-pixel image, a new video offers a sweeping view of the Red Planet. \n",
      "\n",
      "News Title : NASA to Reveal Name of Its Next Mars Rover.\n",
      "Paragraph Text : After a months-long contest among students to name NASA's newest Mars rover, the agency will reveal the winning name — and the winning student — this Thursday.  \n",
      "\n",
      "News Title : The MarCO Mission Comes to an End.\n",
      "Paragraph Text : The pair of briefcase-sized satellites made history when they sailed past Mars in 2019. \n",
      "\n",
      "News Title : A Year of Surprising Science From NASA's InSight Mars Mission.\n",
      "Paragraph Text : A batch of new papers summarizes the lander's findings above and below the surface of the Red Planet. \n",
      "\n",
      "News Title : Mars InSight Lander to Push on Top of the 'Mole'.\n",
      "Paragraph Text : Engineers have a plan for pushing down on the heat probe, which has been stuck at the Martian surface for a year. \n",
      "\n",
      "News Title : Common Questions about InSight's 'Mole'.\n",
      "Paragraph Text : The following Q&As with members of the team answer some of the most common questions about the burrowing device, part of a science instrument called the Heat Flow and Physical Properties Package (HP3). \n",
      "\n",
      "News Title : NASA Adds Return Sample Scientists to Mars 2020 Leadership Team.\n",
      "Paragraph Text : The leadership council for Mars 2020 science added two new members who represent the interests of scientists destined to handle and study the first samples from Red Planet. \n",
      "\n",
      "News Title : NASA's Mars Reconnaissance Orbiter Undergoes Memory Update.\n",
      "Paragraph Text : Other orbiters will continue relaying data from Mars surface missions for a two-week period. \n",
      "\n",
      "News Title : NASA's Mars 2020 Rover Goes Coast-to-Coast to Prep for Launch.\n",
      "Paragraph Text : The agency's first step in returning rocks from Mars just arrived at Kennedy Space Center. The Mars 2020 team now begins readying for a launch to the Red Planet this July. \n",
      "\n",
      "News Title : NASA Prepares for Moon and Mars With New Addition to Its Deep Space Network.\n",
      "Paragraph Text : Robotic spacecraft will be able to communicate with the dish using radio waves and lasers. \n",
      "\n",
      "News Title : NASA Administrator Statement on Moon to Mars Initiative, FY 2021 Budget.\n",
      "Paragraph Text : Jim Bridenstine addresses NASA's ambitious plans for the coming years, including Mars Sample Return. \n",
      "\n",
      "News Title : All About the Laser (and Microphone) Atop Mars 2020, NASA's Next Rover.\n",
      "Paragraph Text : SuperCam is a rock-vaporizing instrument that will help scientists hunt for Mars fossils. \n",
      "\n",
      "News Title : NASA's MAVEN Explores Mars to Understand Radio Interference at Earth.\n",
      "Paragraph Text : NASA’s MAVEN spacecraft has discovered “layers” and “rifts” in the electrically charged part of the upper atmosphere of Mars. \n",
      "\n",
      "News Title : Nine Finalists Chosen in NASA's Mars 2020 Rover Naming Contest.\n",
      "Paragraph Text : Nine finalists have been chosen in the essay contest for K-12 students across U.S. to name NASA's next Mars rover. Now you can help by voting for your favorite.  \n",
      "\n",
      "News Title : NASA's Mars 2020 Rover Closer to Getting Its Name.\n",
      "Paragraph Text : 155 students from across the U.S. have been chosen as semifinalists in NASA's essay contest to name the Mars 2020 rover, and see it launch from Cape Canaveral this July. \n",
      "\n",
      "News Title : Media Get a Close-Up of NASA's Mars 2020 Rover.\n",
      "Paragraph Text : The clean room at NASA's Jet Propulsion Laboratory was open to the media to see NASA's next Mars explorer before it leaves for Florida in preparation for a summertime launch. \n",
      "\n",
      "News Title : Space History Is Made in This NASA Robot Factory.\n",
      "Paragraph Text : From rockets to rovers, JPL's Spacecraft Assembly Facility has been at the center of robotic spaceflight. Here's a closer look at what makes it so special. \n",
      "\n",
      "News Title : NASA's Mars 2020 Rover Completes Its First Drive.\n",
      "Paragraph Text : In a 10-plus-hour marathon, the rover steered, turned and drove in 3-foot (1-meter) increments over small ramps. \n",
      "\n",
      "News Title : NASA's MAVEN Maps Winds in the Martian Upper Atmosphere that Mirror the Terrain Below and Gives Clues to Martian Climate.\n",
      "Paragraph Text : Researchers have created the first map of wind circulation in the upper atmosphere of a planet besides Earth, using data from NASA’s MAVEN spacecraft that were collected during the last two years. \n",
      "\n",
      "News Title : Newfound Martian Aurora Actually the Most Common; Sheds Light on Mars' Changing Climate.\n",
      "Paragraph Text : A type of Martian aurora first identified by NASA’s MAVEN spacecraft in 2016 is actually the most common form of aurora occurring on the Red Planet, according to new results from the mission. \n",
      "\n",
      "News Title : NASA's Treasure Map for Water Ice on Mars.\n",
      "Paragraph Text : A new study identifies frozen water just below the Martian surface, where astronauts could easily dig it up. \n",
      "\n",
      "News Title : Two Rovers to Roll on Mars Again: Curiosity and Mars 2020.\n",
      "Paragraph Text : They look like twins. But under the hood, the rover currently exploring the Red Planet and the one launching there this summer have distinct science tools and roles to play. \n",
      "\n",
      "News Title : NASA's Briefcase-Size MarCO Satellite Picks Up Honors.\n",
      "Paragraph Text : The twin spacecraft, the first of their kind to fly into deep space, earn a Laureate from Aviation Week & Space Technology. \n",
      "\n",
      "News Title : Global Storms on Mars Launch Dust Towers Into the Sky.\n",
      "Paragraph Text : A Mars Dust Tower Stands Out Dust storms are common on Mars. But every decade or so, something unpredictable happens: a series of runaway storms break out, covering the entire planet in a dusty haze. \n",
      "\n"
     ]
    }
   ],
   "source": [
    "#dictionary  to load the news content \n",
    "news = {}\n",
    "\n",
    "# parse html and navigate \n",
    "html = browser.html\n",
    "soup = BeautifulSoup(html, 'html.parser')\n",
    "\n",
    "results = soup.find_all('li', class_=\"slide\")\n",
    "nl = '\\n'\n",
    "\n",
    "# Loop through returned results\n",
    "for result in results:\n",
    "# Error handling\n",
    "    try:\n",
    "    # Identify and return news title\n",
    "        news_title = result.find(\"div\", class_='content_title').text\n",
    "        \n",
    "        # Identify and return paragraph text\n",
    "        news_p = result.div.find(\"div\", class_=\"article_teaser_body\").text\n",
    "        \n",
    "        # Print results only if title and paragraph text are available\n",
    "        if (news_title and news_p):\n",
    "            \n",
    "            news = {'News Title' :news_title, 'Paragraph Text' :news_p }\n",
    "            \n",
    "\n",
    "    except ElementDoesNotExist:\n",
    "        print(\"Error!\")\n",
    "        \n",
    "        \n",
    "    print(f\"News Title : {news['News Title']}.{nl}Paragraph Text : {news['Paragraph Text']} {nl}\")"
   ]
  },
  {
   "cell_type": "code",
   "execution_count": 91,
   "metadata": {},
   "outputs": [],
   "source": [
    "browser.quit()"
   ]
  },
  {
   "cell_type": "markdown",
   "metadata": {},
   "source": [
    "### JPL Mars Space Images - Featured Image\n",
    "\n",
    "\n",
    "- Visit the url for __[JPL Featured Space Image.](https://www.jpl.nasa.gov/spaceimages/?search=&category=Mars)__ </a> \n",
    "\n",
    "- Use splinter to navigate the site and find the image url for the current Featured Mars Image and assign the url string to a variable called featured_image_url.\n",
    "- Make sure to find the image url to the full size .jpg image.\n",
    "- Make sure to save a complete url string for this image\n",
    "\n",
    "\n",
    "\n",
    "\n",
    "\n",
    "\n",
    "\n"
   ]
  },
  {
   "cell_type": "code",
   "execution_count": 98,
   "metadata": {},
   "outputs": [],
   "source": [
    "# pass the chrome executable path  and create an instance of the browser\n",
    "executable_path = {'executable_path': 'chromedriver'}\n",
    "browser = Browser('chrome', **executable_path, headless=False)"
   ]
  },
  {
   "cell_type": "code",
   "execution_count": 99,
   "metadata": {},
   "outputs": [],
   "source": [
    "# url for the JPL Mars Space Images\n",
    "url = \"https://www.jpl.nasa.gov/spaceimages/?search=&category=Mars\"\n",
    "browser.visit(url)"
   ]
  },
  {
   "cell_type": "code",
   "execution_count": 100,
   "metadata": {},
   "outputs": [],
   "source": [
    "# Since, we are using only Splinter for this task \n",
    "# we are going to interact with few buttons and href clicks accordingly to finally fetch the URL for the full-size image url\n",
    "\"\"\" You click in buttons. Splinter follows any redirects, and submits forms associated with buttons.\"\"\"\n",
    "\n",
    "browser.find_link_by_partial_text('FULL IMAGE').first.click()\n",
    "browser.find_link_by_partial_text('more info').first.click()"
   ]
  },
  {
   "cell_type": "code",
   "execution_count": 157,
   "metadata": {},
   "outputs": [],
   "source": [
    "# parse html and navigate \n",
    "html = browser.html\n",
    "soup = BeautifulSoup(html, 'html.parser')\n",
    "featured_image_title = soup.h1.text.strip()\n"
   ]
  },
  {
   "cell_type": "code",
   "execution_count": 102,
   "metadata": {},
   "outputs": [
    {
     "data": {
      "text/plain": [
       "'https://www.jpl.nasa.gov/spaceimages/images/wallpaper/PIA16815-1920x1200.jpg'"
      ]
     },
     "execution_count": 102,
     "metadata": {},
     "output_type": "execute_result"
    }
   ],
   "source": [
    "# navigate to the side column to fetch the largest sized image \n",
    "browser.click_link_by_partial_text('1920 x 1200')\n",
    "\n",
    "# store it in the variable\n",
    "featured_image_url = browser.windows[1].url \n",
    " \n",
    "# designate current Image window as a window & close\n",
    "window = browser.windows[1] \n",
    "window.close()  \n",
    "\n",
    "# switch to the main window \n",
    "browser.windows[0]\n",
    "\n",
    "browser.quit()\n",
    "\n",
    "featured_image_url"
   ]
  },
  {
   "cell_type": "markdown",
   "metadata": {},
   "source": [
    "### Mars Weather\n",
    "\n",
    "#### Visit the Mars Weather twitter account     __[ here](https://twitter.com/marswxreport?lang=en)__     and scrape the latest Mars weather tweet from the page. Save the tweet text for the weather report as a variable called mars_weather.\n",
    "\n",
    "Note: Be sure you are not signed in to twitter, or scraping may become more difficult.<br>\n",
    "Note: Twitter frequently changes how information is presented on their website. If you are having difficulty getting the correct html tag data, consider researching Regular Expression Patterns and how they can be used in combination with the .find() method.\n",
    "\n"
   ]
  },
  {
   "cell_type": "code",
   "execution_count": 145,
   "metadata": {},
   "outputs": [],
   "source": [
    "# pass the chrome executable path  and create an instance of the browser\n",
    "executable_path = {'executable_path': 'chromedriver.exe'}\n",
    "browser = Browser('chrome', **executable_path, headless=False)"
   ]
  },
  {
   "cell_type": "code",
   "execution_count": 146,
   "metadata": {},
   "outputs": [],
   "source": [
    "# Visit the webpage for Mars Weather Twitter account\n",
    "url = \"https://twitter.com/marswxreport?lang=en\"\n",
    "browser.visit(url)"
   ]
  },
  {
   "cell_type": "code",
   "execution_count": 147,
   "metadata": {},
   "outputs": [],
   "source": [
    "# parse the html and navigate through an instance of Beautiful Soup\n",
    "html = browser.html\n",
    "soup = BeautifulSoup(html, 'html.parser')"
   ]
  },
  {
   "cell_type": "code",
   "execution_count": 154,
   "metadata": {},
   "outputs": [],
   "source": [
    "# Inspect the webpage to find element \"article\" encloses the tweets, fetch the first tweet out of it \n",
    "first_tweet = soup.body.find(\"div\",class_=\"css-901oao r-jwli3a r-1qd0xha r-a023e6 r-16dba41 r-ad9z0x r-bcqeeo r-bnwqim r-qvutc0\")"
   ]
  },
  {
   "cell_type": "code",
   "execution_count": 155,
   "metadata": {},
   "outputs": [],
   "source": [
    "mars_weather = first_tweet.text"
   ]
  },
  {
   "cell_type": "code",
   "execution_count": 156,
   "metadata": {},
   "outputs": [
    {
     "data": {
      "text/plain": [
       "'InSight sol 520 (2020-05-13) low -92.9ºC (-135.1ºF) high -1.4ºC (29.4ºF)\\nwinds from the SW at 5.4 m/s (12.0 mph) gusting to 19.5 m/s (43.7 mph)\\npressure at 7.00 hPa'"
      ]
     },
     "execution_count": 156,
     "metadata": {},
     "output_type": "execute_result"
    }
   ],
   "source": [
    "mars_weather"
   ]
  },
  {
   "cell_type": "code",
   "execution_count": 158,
   "metadata": {},
   "outputs": [],
   "source": [
    "browser.quit()"
   ]
  },
  {
   "cell_type": "markdown",
   "metadata": {},
   "source": [
    "### Mars Facts\n",
    "\n",
    "Visit the Mars Facts webpage __[here](https://space-facts.com/mars/)__  and use Pandas to scrape the table containing facts about the planet including Diameter, Mass, etc.\n",
    "\n",
    "\n",
    "- Use Pandas to convert the data to a HTML table string.\n"
   ]
  },
  {
   "cell_type": "code",
   "execution_count": 79,
   "metadata": {},
   "outputs": [],
   "source": [
    "# pass the chrome executable path  and create an instance of the browser\n",
    "executable_path = {'executable_path': 'chromedriver.exe'}\n",
    "browser = Browser('chrome', **executable_path, headless=False)"
   ]
  },
  {
   "cell_type": "code",
   "execution_count": 80,
   "metadata": {},
   "outputs": [],
   "source": [
    "# store url as string \n",
    "url = \"https://space-facts.com/mars/\""
   ]
  },
  {
   "cell_type": "code",
   "execution_count": 81,
   "metadata": {},
   "outputs": [],
   "source": [
    "browser.visit(url)"
   ]
  },
  {
   "cell_type": "code",
   "execution_count": 82,
   "metadata": {},
   "outputs": [],
   "source": [
    "# Navigate through the parse tree to find table elements\n",
    "html = browser.html\n",
    "soup = BeautifulSoup(html,'html.parser')\n",
    "\n",
    "results = soup.find_all(\"div\", class_=\"widget widget_text profiles\")"
   ]
  },
  {
   "cell_type": "code",
   "execution_count": 83,
   "metadata": {},
   "outputs": [],
   "source": [
    "# declare lists to hold table columns\n",
    "col_1 = []\n",
    "col_2 = []\n",
    "\n",
    "# loop through the results \n",
    "for result in results:\n",
    "    # Error handling\n",
    "    try:\n",
    "        td_item = result.find_all('td', class_='column-1')\n",
    "        tr_item = result.find_all('td', class_='column-2')\n",
    "        \n",
    "        if(td_item and tr_item):\n",
    "            for el in td_item:\n",
    "                col_1.append(el.get_text())\n",
    "            for el in tr_item:\n",
    "                col_2.append(el.get_text())\n",
    "        \n",
    "    except AttributeError as e:\n",
    "        print(e)"
   ]
  },
  {
   "cell_type": "code",
   "execution_count": 84,
   "metadata": {},
   "outputs": [],
   "source": [
    "browser.quit()"
   ]
  },
  {
   "cell_type": "code",
   "execution_count": 85,
   "metadata": {},
   "outputs": [
    {
     "data": {
      "text/html": [
       "<div>\n",
       "<style scoped>\n",
       "    .dataframe tbody tr th:only-of-type {\n",
       "        vertical-align: middle;\n",
       "    }\n",
       "\n",
       "    .dataframe tbody tr th {\n",
       "        vertical-align: top;\n",
       "    }\n",
       "\n",
       "    .dataframe thead th {\n",
       "        text-align: right;\n",
       "    }\n",
       "</style>\n",
       "<table border=\"1\" class=\"dataframe\">\n",
       "  <thead>\n",
       "    <tr style=\"text-align: right;\">\n",
       "      <th></th>\n",
       "      <th>Description</th>\n",
       "      <th>Value</th>\n",
       "    </tr>\n",
       "  </thead>\n",
       "  <tbody>\n",
       "    <tr>\n",
       "      <th>0</th>\n",
       "      <td>Equatorial Diameter:</td>\n",
       "      <td>6,792 km</td>\n",
       "    </tr>\n",
       "    <tr>\n",
       "      <th>1</th>\n",
       "      <td>Polar Diameter:</td>\n",
       "      <td>6,752 km</td>\n",
       "    </tr>\n",
       "    <tr>\n",
       "      <th>2</th>\n",
       "      <td>Mass:</td>\n",
       "      <td>6.39 × 10^23 kg (0.11 Earths)</td>\n",
       "    </tr>\n",
       "    <tr>\n",
       "      <th>3</th>\n",
       "      <td>Moons:</td>\n",
       "      <td>2 (Phobos &amp; Deimos)</td>\n",
       "    </tr>\n",
       "    <tr>\n",
       "      <th>4</th>\n",
       "      <td>Orbit Distance:</td>\n",
       "      <td>227,943,824 km (1.38 AU)</td>\n",
       "    </tr>\n",
       "    <tr>\n",
       "      <th>5</th>\n",
       "      <td>Orbit Period:</td>\n",
       "      <td>687 days (1.9 years)</td>\n",
       "    </tr>\n",
       "    <tr>\n",
       "      <th>6</th>\n",
       "      <td>Surface Temperature:</td>\n",
       "      <td>-87 to -5 °C</td>\n",
       "    </tr>\n",
       "    <tr>\n",
       "      <th>7</th>\n",
       "      <td>First Record:</td>\n",
       "      <td>2nd millennium BC</td>\n",
       "    </tr>\n",
       "    <tr>\n",
       "      <th>8</th>\n",
       "      <td>Recorded By:</td>\n",
       "      <td>Egyptian astronomers</td>\n",
       "    </tr>\n",
       "  </tbody>\n",
       "</table>\n",
       "</div>"
      ],
      "text/plain": [
       "             Description                          Value\n",
       "0   Equatorial Diameter:                       6,792 km\n",
       "1        Polar Diameter:                       6,752 km\n",
       "2                  Mass:  6.39 × 10^23 kg (0.11 Earths)\n",
       "3                 Moons:            2 (Phobos & Deimos)\n",
       "4        Orbit Distance:       227,943,824 km (1.38 AU)\n",
       "5          Orbit Period:           687 days (1.9 years)\n",
       "6  Surface Temperature:                    -87 to -5 °C\n",
       "7          First Record:              2nd millennium BC\n",
       "8           Recorded By:           Egyptian astronomers"
      ]
     },
     "execution_count": 85,
     "metadata": {},
     "output_type": "execute_result"
    }
   ],
   "source": [
    "mars_facts_df= pd.DataFrame({'Description':col_1,'Value':col_2})\n",
    "mars_facts_df"
   ]
  },
  {
   "cell_type": "code",
   "execution_count": 86,
   "metadata": {},
   "outputs": [
    {
     "data": {
      "text/plain": [
       "'<table border=\"1\" class=\"dataframe\">\\n  <thead>\\n    <tr style=\"text-align: right;\">\\n      <th></th>\\n      <th>Description</th>\\n      <th>Value</th>\\n    </tr>\\n  </thead>\\n  <tbody>\\n    <tr>\\n      <th>0</th>\\n      <td>Equatorial Diameter:</td>\\n      <td>6,792 km</td>\\n    </tr>\\n    <tr>\\n      <th>1</th>\\n      <td>Polar Diameter:</td>\\n      <td>6,752 km</td>\\n    </tr>\\n    <tr>\\n      <th>2</th>\\n      <td>Mass:</td>\\n      <td>6.39 × 10^23 kg (0.11 Earths)</td>\\n    </tr>\\n    <tr>\\n      <th>3</th>\\n      <td>Moons:</td>\\n      <td>2 (Phobos &amp; Deimos)</td>\\n    </tr>\\n    <tr>\\n      <th>4</th>\\n      <td>Orbit Distance:</td>\\n      <td>227,943,824 km (1.38 AU)</td>\\n    </tr>\\n    <tr>\\n      <th>5</th>\\n      <td>Orbit Period:</td>\\n      <td>687 days (1.9 years)</td>\\n    </tr>\\n    <tr>\\n      <th>6</th>\\n      <td>Surface Temperature:</td>\\n      <td>-87 to -5 °C</td>\\n    </tr>\\n    <tr>\\n      <th>7</th>\\n      <td>First Record:</td>\\n      <td>2nd millennium BC</td>\\n    </tr>\\n    <tr>\\n      <th>8</th>\\n      <td>Recorded By:</td>\\n      <td>Egyptian astronomers</td>\\n    </tr>\\n  </tbody>\\n</table>'"
      ]
     },
     "execution_count": 86,
     "metadata": {},
     "output_type": "execute_result"
    }
   ],
   "source": [
    "# convert to HTML table string using pandas to_html method\n",
    "mars_facts_table = mars_facts_df.to_html()\n",
    "mars_facts_table"
   ]
  },
  {
   "cell_type": "markdown",
   "metadata": {},
   "source": [
    "### Mars Hemispheres\n",
    "\n",
    "\n",
    "- Visit the USGS Astrogeology site __[here](https://astrogeology.usgs.gov/search/results?q=hemisphere+enhanced&k1=target&v1=Mars)__ to obtain high resolution images for each of Mar's hemispheres.\n",
    "\n",
    "\n",
    "- You will need to click each of the links to the hemispheres in order to find the image url to the full resolution image.\n",
    "\n",
    "\n",
    "- Save both the image url string for the full resolution hemisphere image, and the Hemisphere title containing the hemisphere name. Use a Python dictionary to store the data using the keys img_url and title.\n",
    "\n",
    "\n",
    "- Append the dictionary with the image url string and the hemisphere title to a list. This list will contain one dictionary for each hemisphere."
   ]
  },
  {
   "cell_type": "code",
   "execution_count": 74,
   "metadata": {},
   "outputs": [],
   "source": [
    "# pass the chrome executable path  and create an instance of the browser\n",
    "executable_path = {'executable_path': 'chromedriver.exe'}\n",
    "browser = Browser('chrome', **executable_path, headless=False)"
   ]
  },
  {
   "cell_type": "code",
   "execution_count": 75,
   "metadata": {},
   "outputs": [],
   "source": [
    "# create the url string\n",
    "url = \"https://astrogeology.usgs.gov/search/results?q=hemisphere+enhanced&k1=target&v1=Mars\""
   ]
  },
  {
   "cell_type": "code",
   "execution_count": 76,
   "metadata": {},
   "outputs": [],
   "source": [
    "# visit the webpage through the instance\n",
    "\n",
    "browser.visit(url)\n",
    "html = browser.html\n",
    "\n",
    "soup = BeautifulSoup(html, 'html.parser')"
   ]
  },
  {
   "cell_type": "code",
   "execution_count": 53,
   "metadata": {},
   "outputs": [],
   "source": [
    "# navigate through the parse tree to find the hemisphere header texts\n",
    "click_text= []\n",
    "for x in range(4):\n",
    "    text = soup.find_all('h3')[x].text\n",
    "    click_text.append(text)\n",
    "    x += 1"
   ]
  },
  {
   "cell_type": "code",
   "execution_count": 54,
   "metadata": {},
   "outputs": [
    {
     "data": {
      "text/plain": [
       "['Cerberus Hemisphere Enhanced',\n",
       " 'Schiaparelli Hemisphere Enhanced',\n",
       " 'Syrtis Major Hemisphere Enhanced',\n",
       " 'Valles Marineris Hemisphere Enhanced']"
      ]
     },
     "execution_count": 54,
     "metadata": {},
     "output_type": "execute_result"
    }
   ],
   "source": [
    "click_text"
   ]
  },
  {
   "cell_type": "code",
   "execution_count": 55,
   "metadata": {},
   "outputs": [
    {
     "name": "stderr",
     "output_type": "stream",
     "text": [
      "C:\\Users\\getso\\Anaconda3\\envs\\PythonData\\lib\\site-packages\\splinter\\driver\\webdriver\\__init__.py:533: FutureWarning: browser.find_link_by_text is deprecated. Use browser.links.find_by_text instead.\n",
      "  warnings.warn(\n"
     ]
    }
   ],
   "source": [
    "# click on the links with the header texts and store img url and title as key-value pairs and append it to a list \n",
    "\n",
    "hemisphere_image_urls = []\n",
    "\n",
    "for x in range(4):\n",
    "    browser.find_link_by_partial_text(click_text[x]).first.click()\n",
    "    \n",
    "    title = browser.find_by_tag('h2.title').text\n",
    "    browser.click_link_by_text('Sample') #Sample is a clickable link to the full-size image\n",
    "    \n",
    "    image_url = browser.windows[1].url   # copy image url \n",
    "    hemisphere_image_urls.append({\"Title\": title, \"Img_URL\": image_url})\n",
    "    \n",
    "    # designate current Image window as a window & close\n",
    "    window = browser.windows[1] \n",
    "    window.close()  \n",
    "    \n",
    "    # switch to the main window \n",
    "    browser.windows[0]\n",
    "    \n",
    "    # go back to the previous page \n",
    "    browser.back()\n",
    "    \n",
    "    #increment for next clickable header text\n",
    "    x += 1"
   ]
  },
  {
   "cell_type": "code",
   "execution_count": 275,
   "metadata": {},
   "outputs": [
    {
     "data": {
      "text/plain": [
       "[{'Title': 'Cerberus Hemisphere Enhanced',\n",
       "  'Img_URL': 'https://astropedia.astrogeology.usgs.gov/download/Mars/Viking/cerberus_enhanced.tif/full.jpg'},\n",
       " {'Title': 'Schiaparelli Hemisphere Enhanced',\n",
       "  'Img_URL': 'https://astropedia.astrogeology.usgs.gov/download/Mars/Viking/schiaparelli_enhanced.tif/full.jpg'},\n",
       " {'Title': 'Syrtis Major Hemisphere Enhanced',\n",
       "  'Img_URL': 'https://astropedia.astrogeology.usgs.gov/download/Mars/Viking/syrtis_major_enhanced.tif/full.jpg'},\n",
       " {'Title': 'Valles Marineris Hemisphere Enhanced',\n",
       "  'Img_URL': 'https://astropedia.astrogeology.usgs.gov/download/Mars/Viking/valles_marineris_enhanced.tif/full.jpg'}]"
      ]
     },
     "execution_count": 275,
     "metadata": {},
     "output_type": "execute_result"
    }
   ],
   "source": [
    "# list of title : image_urls dictionaries\n",
    "hemisphere_image_urls"
   ]
  },
  {
   "cell_type": "code",
   "execution_count": 276,
   "metadata": {},
   "outputs": [],
   "source": [
    "#exit browser instance\n",
    "browser.quit()"
   ]
  },
  {
   "cell_type": "code",
   "execution_count": null,
   "metadata": {},
   "outputs": [],
   "source": []
  }
 ],
 "metadata": {
  "kernelspec": {
   "display_name": "Python 3",
   "language": "python",
   "name": "python3"
  },
  "language_info": {
   "codemirror_mode": {
    "name": "ipython",
    "version": 3
   },
   "file_extension": ".py",
   "mimetype": "text/x-python",
   "name": "python",
   "nbconvert_exporter": "python",
   "pygments_lexer": "ipython3",
   "version": "3.8.2"
  }
 },
 "nbformat": 4,
 "nbformat_minor": 4
}
